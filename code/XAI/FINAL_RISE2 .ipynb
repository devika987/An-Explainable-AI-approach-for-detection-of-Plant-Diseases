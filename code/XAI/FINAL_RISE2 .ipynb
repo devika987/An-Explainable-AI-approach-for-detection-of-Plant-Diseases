{
  "cells": [
    {
      "cell_type": "code",
      "execution_count": null,
      "metadata": {
        "id": "iAF7K5SKRzLr"
      },
      "outputs": [],
      "source": [
        "import os\n",
        "from tensorflow.keras.models import Model\n",
        "import numpy as np\n",
        "from matplotlib import pyplot as plt\n",
        "from skimage.transform import resize\n",
        "from tqdm import tqdm\n",
        "from keras.applications.resnet import ResNet50, preprocess_input, decode_predictions\n",
        "from keras import backend as K\n",
        "from keras.preprocessing import image\n",
        "import keras\n",
        "import cv2\n",
        "import tensorflow.keras\n",
        "from tensorflow.keras.preprocessing.image import img_to_array\n",
        "from os import listdir\n",
        "import json"
      ]
    },
    {
      "cell_type": "code",
      "execution_count": null,
      "metadata": {
        "id": "XAm1ldEgj57o"
      },
      "outputs": [],
      "source": [
        "def load_img(path):\n",
        "    img = image.load_img(path, target_size=(64,64))\n",
        "    x = image.img_to_array(img)\n",
        "    x = np.expand_dims(x, axis=0)\n",
        "    x = preprocess_input(x)\n",
        "    return img, x"
      ]
    },
    {
      "cell_type": "code",
      "execution_count": null,
      "metadata": {
        "id": "Mb4nJdBhR4IF"
      },
      "outputs": [],
      "source": [
        "def generate_masks(N, s, p1):\n",
        "    cell_size = np.ceil(np.array((64,64)) / s)\n",
        "    up_size = (s + 1) * cell_size\n",
        "\n",
        "    grid = np.random.rand(N, s, s) < p1\n",
        "    grid = grid.astype('float32')\n",
        "\n",
        "    masks = np.empty((N, *(64,64)))\n",
        "\n",
        "    for i in tqdm(range(N), desc='Generating masks'):\n",
        "        # Random shifts\n",
        "        x = np.random.randint(0, cell_size[0])\n",
        "        y = np.random.randint(0, cell_size[1])\n",
        "        # Linear upsampling and cropping\n",
        "        masks[i, :, :] = resize(grid[i], up_size, order=1, mode='reflect',\n",
        "                                anti_aliasing=False)[x:x + (64,64)[0], y:y + (64,64)[1]]\n",
        "    masks = masks.reshape(-1, *(64,64), 1)\n",
        "    return masks"
      ]
    },
    {
      "cell_type": "code",
      "execution_count": null,
      "metadata": {
        "id": "IaINWPkdSVLP"
      },
      "outputs": [],
      "source": [
        "batch_size = 100\n",
        "\n",
        "def explain(model, inp, masks):\n",
        "    preds = []\n",
        "    # Make sure multiplication is being done for correct axes\n",
        "    masked = inp * masks\n",
        "    for i in tqdm(range(0, N, batch_size), desc='Explaining'):\n",
        "        preds.append(model.predict(masked[i:min(i+batch_size, N)]))\n",
        "    preds = np.concatenate(preds)\n",
        "    sal = preds.T.dot(masks.reshape(N, -1)).reshape(-1, *(64,64))\n",
        "    sal = sal / N / p1\n",
        "    return sal"
      ]
    },
    {
      "cell_type": "code",
      "execution_count": null,
      "metadata": {
        "id": "eP89VTH-jZQI"
      },
      "outputs": [],
      "source": [
        "#model = keras.models.load_model('/content/drive/MyDrive/modelonSmallData38C.h5')\n",
        "model = keras.models.load_model('/content/drive/MyDrive/Model/CNN_Modelfinal.h5')\n"
      ]
    },
    {
      "cell_type": "code",
      "source": [
        "from google.colab import drive\n",
        "drive.mount('/content/drive')"
      ],
      "metadata": {
        "colab": {
          "base_uri": "https://localhost:8080/"
        },
        "id": "-7KVEebwmtkP",
        "outputId": "d3f53735-320c-4378-8621-1c96f618e76b"
      },
      "execution_count": null,
      "outputs": [
        {
          "output_type": "stream",
          "name": "stdout",
          "text": [
            "Mounted at /content/drive\n"
          ]
        }
      ]
    },
    {
      "cell_type": "code",
      "execution_count": null,
      "metadata": {
        "id": "R6nAeXo8jpDe"
      },
      "outputs": [],
      "source": [
        "\n",
        "img, x = load_img('/content/drive/MyDrive/Dataset/testing/Apple Cedar rust/072f23fb-0b1a-43b9-a548-3981120ff33c___FREC_C.Rust 0133_90deg.JPG')"
      ]
    },
    {
      "cell_type": "code",
      "execution_count": null,
      "metadata": {
        "colab": {
          "base_uri": "https://localhost:8080/"
        },
        "id": "_qij3E4gjsSD",
        "outputId": "1be26ef6-289c-42d7-9435-1f1c79826643"
      },
      "outputs": [
        {
          "output_type": "stream",
          "name": "stderr",
          "text": [
            "Generating masks: 100%|██████████| 2000/2000 [00:02<00:00, 677.05it/s]\n"
          ]
        }
      ],
      "source": [
        "N = 2000\n",
        "s = 8\n",
        "p1 = 0.5\n",
        "masks = generate_masks(2000, 8, 0.5)"
      ]
    },
    {
      "cell_type": "code",
      "execution_count": null,
      "metadata": {
        "id": "DMDOA05hjwF-",
        "colab": {
          "base_uri": "https://localhost:8080/"
        },
        "outputId": "bc6764e6-6e7c-4900-9aa0-9499f5c3d566"
      },
      "outputs": [
        {
          "output_type": "stream",
          "name": "stderr",
          "text": [
            "Explaining: 100%|██████████| 20/20 [00:07<00:00,  2.82it/s]\n"
          ]
        }
      ],
      "source": [
        "sal = explain(model, x, masks)"
      ]
    },
    {
      "cell_type": "code",
      "source": [
        ""
      ],
      "metadata": {
        "id": "sDRXMKeI3GSD"
      },
      "execution_count": null,
      "outputs": []
    },
    {
      "cell_type": "code",
      "execution_count": null,
      "metadata": {
        "id": "tyUqhhTrjyy8",
        "colab": {
          "base_uri": "https://localhost:8080/",
          "height": 494
        },
        "outputId": "aa056ec7-385b-4525-c0e8-3eae5d27bfe8"
      },
      "outputs": [
        {
          "output_type": "stream",
          "name": "stdout",
          "text": [
            "top_indeices [ 0 26  6 12]\n",
            "results [[('APPLE BLACK ROT', 'apple black rot', 1.0), ('STRAWBERRY LEAF SCORCH', 'strawberry leaf scorch', 2.8380312e-10), ('CHERRY HEALTHY', 'cherry healthy', 4.7436218e-11), ('GRAPE ESCA BLACK MEASLES', 'grape esca black measles', 4.066497e-12)], 0]\n",
            "results [('APPLE BLACK ROT', 'apple black rot', 1.0), ('STRAWBERRY LEAF SCORCH', 'strawberry leaf scorch', 2.8380312e-10), ('CHERRY HEALTHY', 'cherry healthy', 4.7436218e-11), ('GRAPE ESCA BLACK MEASLES', 'grape esca black measles', 4.066497e-12)]\n",
            "1  1.00000  apple black rot          \n",
            "2  0.00000  strawberry leaf scorch   \n",
            "3  0.00000  cherry healthy           \n",
            "4  0.00000  grape esca black measles \n",
            "Class_name apple black rot\n",
            "Class_ind 0\n",
            "63/63 [==============================] - 6s 89ms/step\n",
            "(2000, 64, 64, 1)\n",
            "sal (38, 64, 64)\n",
            "class_ind 0\n"
          ]
        },
        {
          "output_type": "display_data",
          "data": {
            "text/plain": [
              "<Figure size 432x288 with 2 Axes>"
            ],
            "image/png": "[encoded data removed]"
          },
          "metadata": {
            "needs_background": "light"
          }
        }
      ],
      "source": [
        "IMAGE_SIZE = (64, 64, 3)\n",
        "def load_image(path, preprocessing_function=None, target_size=(64, 64)):\n",
        "    x = keras.preprocessing.image.load_img(path, target_size=target_size)\n",
        "    x = keras.preprocessing.image.img_to_array(x)\n",
        "\n",
        "    if preprocessing_function is not None:\n",
        "        x = preprocessing_function(x)\n",
        "\n",
        "    return x\n",
        "\n",
        "\n",
        "imgpath='/content/drive/MyDrive/Dataset/all_cat_trojan/CORN CERCOSPORA_1_99238e07-5714-429e-9e3b-cdaebef9ab85___RS_GLSp 3810 copy.jpg'\n",
        "default_image_size = tuple((64, 64))\n",
        "def convert_image_to_array(image_dir):\n",
        "    try:\n",
        "        image = cv2.imread(image_dir)\n",
        "        if image is not None :\n",
        "            image = cv2.resize(image, default_image_size)   \n",
        "            return img_to_array(image)\n",
        "        else :\n",
        "            return np.array([])\n",
        "    except Exception as e:\n",
        "        print(f\"Error : {e}\")\n",
        "        return None\n",
        "imar = convert_image_to_array(imgpath) \n",
        "npimagelist = np.array([imar], dtype=np.float16)/225.0\n",
        "pred_unmasked = model.predict(npimagelist)\n",
        "\n",
        "def decode_predictions(preds, top, class_list_path):\n",
        "  if len(preds.shape) != 2 or preds.shape[1] !=38 : # your classes number\n",
        "    raise ValueError('`decode_predictions` expects '\n",
        "                     'a batch of predictions '\n",
        "                     '(i.e. a 2D array of shape (samples, 1000)). '\n",
        "                     'Found array with shape: ' + str(preds.shape))\n",
        "  index_list = json.load(open(class_list_path))\n",
        "  results = []\n",
        "  for pred in preds:\n",
        "    top_indices = pred.argsort()[-top:][::-1]\n",
        "    print('top_indeices',top_indices)\n",
        "    class_ind=top_indices[0]\n",
        "    result = [tuple(index_list[str(i)]) + (pred[i],) for i in top_indices]\n",
        "    result.sort(key=lambda x: x[2], reverse=True)\n",
        "    results.append(result)\n",
        "  #return results,class_ind\n",
        "  results.append(class_ind)\n",
        "  return results\n",
        "\n",
        "top = 4\n",
        "class_list_path = '/content/drive/MyDrive/code/XAI_final/index.json'\n",
        "pred_decoded1 = decode_predictions(pred_unmasked, top ,class_list_path)\n",
        "class_index=pred_decoded1[1]\n",
        "print('results',pred_decoded1)\n",
        "print('results',pred_decoded1[0])\n",
        "for i, item in enumerate(pred_decoded1[0]):\n",
        "    print('{:<3}{:<9.5f}{: <25}'.format(1 + i, item[2], item[1]))\n",
        "    \n",
        "\n",
        "topn = 1\n",
        "class_name = pred_decoded1[0][topn - 1][1]\n",
        "#class_index = np.argsort(pred_unmasked)[-topn]\n",
        "#class_index=16\n",
        "print('Class_name',class_name)\n",
        "print('Class_ind',class_index)\n",
        "\n",
        "\n",
        "img_orig = load_image(\n",
        "    imgpath, preprocessing_function=None,\n",
        "    target_size=IMAGE_SIZE).astype(np.uint8)\n",
        "\n",
        "\n",
        "def rgb2gray(rgb):\n",
        "    r, g, b = rgb[:, :, 0], rgb[:, :, 1], rgb[:, :, 2]\n",
        "    gray = 0.2989 * r + 0.5870 * g + 0.1140 * b\n",
        "    return gray\n",
        "\n",
        "\n",
        "img_gray = rgb2gray(img_orig)\n",
        "\n",
        "X = np.zeros((N, ) + IMAGE_SIZE, dtype=np.float32)\n",
        "preds_masked = model.predict(X, verbose=1)\n",
        "\n",
        "print(masks.shape)\n",
        "def create_sum_mask(masks, preds_masked, class_index):\n",
        "    sum_mask = np.zeros(masks[0].shape, dtype=np.float32)\n",
        "\n",
        "    for i, mask in enumerate(masks):\n",
        "        m = mask * preds_masked[i, class_index]\n",
        "        sum_mask += m\n",
        "\n",
        "    sum_mask -= np.min(sum_mask)\n",
        "    sum_mask /= np.max(sum_mask)\n",
        "    \n",
        "    return sum_mask\n",
        "\n",
        "'''\n",
        "plt.subplot(132)\n",
        "plt.title('RISE for {!r}:'.format(class_name))\n",
        "plt.axis('off')\n",
        "plt.imshow(img_gray, cmap=plt.cm.gray)\n",
        "sum_mask = create_sum_mask(masks, preds_masked, class_index)\n",
        "'''\n",
        "\n",
        "'''class_idx = 2'''\n",
        "\n",
        "\n",
        "\n",
        "\n",
        "print(\"sal\",sal.shape)\n",
        "print('class_ind',class_index)\n",
        "plt.axis('off')\n",
        "\n",
        "\n",
        "plt.imshow(img)\n",
        "\n",
        "plt.imshow(sal[class_index], cmap='jet', alpha=0.5)\n",
        "plt.colorbar()\n",
        "plt.show()"
      ]
    },
    {
      "cell_type": "code",
      "source": [
        ""
      ],
      "metadata": {
        "id": "ur7DBCy39woM"
      },
      "execution_count": null,
      "outputs": []
    },
    {
      "cell_type": "code",
      "source": [
        ""
      ],
      "metadata": {
        "id": "mj-a23dE2WhP"
      },
      "execution_count": null,
      "outputs": []
    },
    {
      "cell_type": "code",
      "source": [
        "\n",
        "\n"
      ],
      "metadata": {
        "id": "0HHekjzw3KSK"
      },
      "execution_count": null,
      "outputs": []
    },
    {
      "cell_type": "code",
      "source": [
        ""
      ],
      "metadata": {
        "id": "P71mnvga3KMc"
      },
      "execution_count": null,
      "outputs": []
    }
  ],
  "metadata": {
    "colab": {
      "collapsed_sections": [],
      "name": "FINAL_RISE2 .ipynb",
      "provenance": []
    },
    "kernelspec": {
      "display_name": "Python 3",
      "name": "python3"
    },
    "language_info": {
      "name": "python"
    }
  },
  "nbformat": 4,
  "nbformat_minor": 0
}