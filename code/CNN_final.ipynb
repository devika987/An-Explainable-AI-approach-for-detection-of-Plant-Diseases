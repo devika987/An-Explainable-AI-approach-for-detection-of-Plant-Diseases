{
  "cells": [
    {
      "cell_type": "code",
      "execution_count": null,
      "metadata": {
        "id": "n4EjCBpP4gnf"
      },
      "outputs": [],
      "source": [
        ""
      ]
    },
    {
      "cell_type": "code",
      "execution_count": null,
      "metadata": {
        "colab": {
          "base_uri": "https://localhost:8080/"
        },
        "id": "9p_GSc9MabeP",
        "outputId": "15e16586-5f3d-4e8d-a913-9741419cadd9"
      },
      "outputs": [
        {
          "output_type": "stream",
          "name": "stdout",
          "text": [
            "Mounted at /content/drive\n"
          ]
        }
      ],
      "source": [
        "from google.colab import drive\n",
        "drive.mount('/content/drive')"
      ]
    },
    {
      "cell_type": "code",
      "execution_count": null,
      "metadata": {
        "colab": {
          "base_uri": "https://localhost:8080/",
          "height": 51
        },
        "id": "iua9oteja_V_",
        "outputId": "1007f451-a5f3-4b90-a9a2-12d3e481f7e9"
      },
      "outputs": [
        {
          "name": "stdout",
          "output_type": "stream",
          "text": [
            "'0e2e58b7-1417-49c4-b014-b5efb4b4b831___RS_Erly.B 8256.JPG'   cnn_model.pkl\n",
            " cnn_model.h5\t\t\t\t\t\t      PlantVillage\n"
          ]
        }
      ],
      "source": [
        ""
      ]
    },
    {
      "cell_type": "code",
      "execution_count": null,
      "metadata": {
        "id": "rrAC7ZEKLN2T"
      },
      "outputs": [],
      "source": [
        "import numpy as np\n",
        "import pickle\n",
        "import cv2\n",
        "import tensorflow as tf\n",
        "import tensorflow.keras\n",
        "from os import listdir\n",
        "from sklearn.preprocessing import LabelBinarizer\n",
        "from tensorflow.keras.models import Sequential\n",
        "from tensorflow.keras.layers import BatchNormalization\n",
        "from tensorflow.keras.layers import Conv2D\n",
        "from tensorflow.keras.layers import MaxPooling2D\n",
        "from tensorflow.keras.layers import Activation, Flatten, Dropout, Dense\n",
        "from tensorflow.keras import backend as K\n",
        "from tensorflow.keras.preprocessing.image import ImageDataGenerator\n",
        "from tensorflow.keras.optimizers import Adam\n",
        "from tensorflow.keras.preprocessing import image\n",
        "from tensorflow.keras.preprocessing.image import img_to_array\n",
        "from sklearn.preprocessing import MultiLabelBinarizer\n",
        "from sklearn.model_selection import train_test_split\n",
        "import matplotlib.pyplot as plt\n",
        "import keras"
      ]
    },
    {
      "cell_type": "code",
      "execution_count": null,
      "metadata": {
        "id": "XYRzgL6IzQzK",
        "outputId": "b0bad929-be3a-492f-adad-71465b4fa20b"
      },
      "outputs": [
        {
          "name": "stdout",
          "output_type": "stream",
          "text": [
            "Version:  2.7.0\n",
            "Eager mode:  True\n",
            "WARNING:tensorflow:From C:\\Users\\adity\\AppData\\Local\\Temp/ipykernel_16048/628118610.py:6: is_gpu_available (from tensorflow.python.framework.test_util) is deprecated and will be removed in a future version.\n",
            "Instructions for updating:\n",
            "Use `tf.config.list_physical_devices('GPU')` instead.\n",
            "GPU is available\n",
            "[PhysicalDevice(name='/physical_device:GPU:0', device_type='GPU')]\n"
          ]
        }
      ],
      "source": [
        "# verify TensorFlow version\n",
        "\n",
        "print(\"Version: \", tf.__version__)\n",
        "print(\"Eager mode: \", tf.executing_eagerly())\n",
        "# print(\"Hub version: \", hub.__version__)\n",
        "print(\"GPU is\", \"available\" if tf.test.is_gpu_available() else \"NOT AVAILABLE\")\n",
        "print(tf.config.list_physical_devices('GPU'))"
      ]
    },
    {
      "cell_type": "code",
      "execution_count": null,
      "metadata": {
        "id": "fPS7bQfGLOKa"
      },
      "outputs": [],
      "source": [
        "\n",
        "EPOCHS = 25\n",
        "INIT_LR = 1e-3\n",
        "BS = 32\n",
        "default_image_size = tuple((64, 64))\n",
        "image_size = 0\n",
        "directory_root = \"E:\\Agro-Disease-Detector\\PlantVillage_train\"\n",
        "width=64\n",
        "height=64\n",
        "depth=3\n"
      ]
    },
    {
      "cell_type": "code",
      "execution_count": null,
      "metadata": {
        "id": "McHUfm3rLOVr"
      },
      "outputs": [],
      "source": [
        "def convert_image_to_array(image_dir):\n",
        "    try:\n",
        "        image = cv2.imread(image_dir)\n",
        "        if image is not None :\n",
        "            image = cv2.resize(image, default_image_size)   \n",
        "            return img_to_array(image)\n",
        "        else :\n",
        "            return np.array([])\n",
        "    except Exception as e:\n",
        "        print(f\"Error : {e}\")\n",
        "        return None"
      ]
    },
    {
      "cell_type": "code",
      "execution_count": null,
      "metadata": {
        "colab": {
          "base_uri": "https://localhost:8080/"
        },
        "id": "3WYah9yfLOYj",
        "outputId": "c9ca1cde-e5fe-44a0-b7cb-880cd355c48f"
      },
      "outputs": [
        {
          "name": "stdout",
          "output_type": "stream",
          "text": [
            "[INFO] Loading images ...\n",
            "[INFO] Processing Apple Black rot ...\n",
            "[INFO] Processing Apple Cedar rust ...\n",
            "[INFO] Processing Apple healthy ...\n",
            "[INFO] Processing Apple scab ...\n",
            "[INFO] Processing Blueberry healthy ...\n",
            "[INFO] Processing Cherry healthy ...\n",
            "[INFO] Processing Cherry Powdery mildew ...\n",
            "[INFO] Processing Corn Cercospora Gray leaf spot ...\n",
            "[INFO] Processing Corn Common rust ...\n",
            "[INFO] Processing Corn healthy ...\n",
            "[INFO] Processing Corn Northern Leaf Blight ...\n",
            "[INFO] Processing Grape Black rot ...\n",
            "[INFO] Processing Grape Esca Black Measles ...\n",
            "[INFO] Processing Grape healthy ...\n",
            "[INFO] Processing Grape Leaf blight Isariopsis Leaf Spot ...\n",
            "[INFO] Processing Orange Haunglongbing Citrus greening ...\n",
            "[INFO] Processing Peach Bacterial spot ...\n",
            "[INFO] Processing Peach healthy ...\n",
            "[INFO] Processing Pepper bell Bacterial spot ...\n",
            "[INFO] Processing Pepper bell healthy ...\n",
            "[INFO] Processing Potato Early blight ...\n",
            "[INFO] Processing Potato healthy ...\n",
            "[INFO] Processing Potato Late blight ...\n",
            "[INFO] Processing Raspberry healthy ...\n",
            "[INFO] Processing Soybean healthy ...\n",
            "[INFO] Processing Squash Powdery mildew ...\n",
            "[INFO] Processing Strawberry healthy ...\n",
            "[INFO] Processing Strawberry Leaf scorch ...\n",
            "[INFO] Processing Tomato Bacterial spot ...\n",
            "[INFO] Processing Tomato Early blight ...\n",
            "[INFO] Processing Tomato healthy ...\n",
            "[INFO] Processing Tomato Late blight ...\n",
            "[INFO] Processing Tomato Leaf Mold ...\n",
            "[INFO] Processing Tomato mosaic virus ...\n",
            "[INFO] Processing Tomato Septoria leaf spot ...\n",
            "[INFO] Processing Tomato Target Spot ...\n",
            "[INFO] Processing Tomato Two spotted spider mite ...\n",
            "[INFO] Processing Tomato Yellow Leaf Curl Virus ...\n",
            "[INFO] Image loading completed\n"
          ]
        }
      ],
      "source": [
        "image_list, label_list = [], []\n",
        "try:\n",
        "    print(\"[INFO] Loading images ...\")\n",
        "    root_dir = listdir(directory_root)\n",
        "    for directory in root_dir :\n",
        "        if directory == \".DS_Store\" :\n",
        "            root_dir.remove(directory)\n",
        "\n",
        "    for plant_folder in root_dir :\n",
        "        plant_disease_folder_list = listdir(f\"{directory_root}/{plant_folder}\")\n",
        "        \n",
        "        for disease_folder in plant_disease_folder_list :\n",
        "            if disease_folder == \".DS_Store\" :\n",
        "                plant_disease_folder_list.remove(disease_folder)\n",
        "\n",
        "        for plant_disease_folder in plant_disease_folder_list:\n",
        "            print(f\"[INFO] Processing {plant_disease_folder} ...\")\n",
        "            plant_disease_image_list = listdir(f\"{directory_root}/{plant_folder}/{plant_disease_folder}/\")\n",
        "                \n",
        "            for single_plant_disease_image in plant_disease_image_list :\n",
        "                if single_plant_disease_image == \".DS_Store\" :\n",
        "                    plant_disease_image_list.remove(single_plant_disease_image)\n",
        "\n",
        "            for image in plant_disease_image_list:\n",
        "                image_directory = f\"{directory_root}/{plant_folder}/{plant_disease_folder}/{image}\"\n",
        "                if image_directory.endswith(\".jpg\") == True or image_directory.endswith(\".JPG\") == True:\n",
        "                    image_list.append(convert_image_to_array(image_directory))\n",
        "                    label_list.append(plant_disease_folder)\n",
        "    print(\"[INFO] Image loading completed\")  \n",
        "except Exception as e:\n",
        "    print(f\"Error : {e}\")"
      ]
    },
    {
      "cell_type": "code",
      "execution_count": null,
      "metadata": {
        "id": "9_pR7r_dLOlA"
      },
      "outputs": [],
      "source": [
        "label_binarizer = LabelBinarizer()\n",
        "image_labels = label_binarizer.fit_transform(label_list)\n",
        "pickle.dump(label_binarizer,open('label_transform.pkl', 'wb'))\n",
        "n_classes = len(label_binarizer.classes_)"
      ]
    },
    {
      "cell_type": "code",
      "execution_count": null,
      "metadata": {
        "id": "LDAtTjYsLObd"
      },
      "outputs": [],
      "source": [
        "np_image_list = np.array(image_list, dtype=np.float16) / 225.0"
      ]
    },
    {
      "cell_type": "code",
      "execution_count": null,
      "metadata": {
        "colab": {
          "base_uri": "https://localhost:8080/"
        },
        "id": "r6tlojsjd2SF",
        "outputId": "90df2e63-0226-407e-b92e-0ccfc9aa1b15"
      },
      "outputs": [
        {
          "name": "stdout",
          "output_type": "stream",
          "text": [
            "['Apple Black rot' 'Apple Cedar rust' 'Apple healthy' 'Apple scab'\n",
            " 'Blueberry healthy' 'Cherry Powdery mildew' 'Cherry healthy'\n",
            " 'Corn Cercospora Gray leaf spot' 'Corn Common rust'\n",
            " 'Corn Northern Leaf Blight' 'Corn healthy' 'Grape Black rot'\n",
            " 'Grape Esca Black Measles' 'Grape Leaf blight Isariopsis Leaf Spot'\n",
            " 'Grape healthy' 'Orange Haunglongbing Citrus greening'\n",
            " 'Peach Bacterial spot' 'Peach healthy' 'Pepper bell Bacterial spot'\n",
            " 'Pepper bell healthy' 'Potato Early blight' 'Potato Late blight'\n",
            " 'Potato healthy' 'Raspberry healthy' 'Soybean healthy'\n",
            " 'Squash Powdery mildew' 'Strawberry Leaf scorch' 'Strawberry healthy'\n",
            " 'Tomato Bacterial spot' 'Tomato Early blight' 'Tomato Late blight'\n",
            " 'Tomato Leaf Mold' 'Tomato Septoria leaf spot' 'Tomato Target Spot'\n",
            " 'Tomato Two spotted spider mite' 'Tomato Yellow Leaf Curl Virus'\n",
            " 'Tomato healthy' 'Tomato mosaic virus']\n"
          ]
        }
      ],
      "source": [
        "print(label_binarizer.classes_)\n",
        "#print(np_image_list)"
      ]
    },
    {
      "cell_type": "code",
      "execution_count": null,
      "metadata": {
        "id": "Kn781e6hd2ug"
      },
      "outputs": [],
      "source": [
        "image_size = len(image_list)"
      ]
    },
    {
      "cell_type": "code",
      "execution_count": null,
      "metadata": {
        "id": "IlIPQstWzQzQ",
        "outputId": "f7255088-4994-45c1-8933-f631e7b41b7f"
      },
      "outputs": [
        {
          "data": {
            "text/plain": [
              "70295"
            ]
          },
          "execution_count": 17,
          "metadata": {},
          "output_type": "execute_result"
        }
      ],
      "source": [
        "len(image_list)"
      ]
    },
    {
      "cell_type": "code",
      "execution_count": null,
      "metadata": {
        "colab": {
          "base_uri": "https://localhost:8080/"
        },
        "id": "vc-daTWSd22Z",
        "outputId": "a6a5ffc7-920f-4c46-8576-f0d46ffac750"
      },
      "outputs": [
        {
          "name": "stdout",
          "output_type": "stream",
          "text": [
            "[INFO] Spliting data to train, test\n"
          ]
        }
      ],
      "source": [
        "print(\"[INFO] Spliting data to train, test\")\n",
        "x_train, x_test, y_train, y_test = train_test_split(np_image_list, image_labels, test_size=0.2, random_state = 42) "
      ]
    },
    {
      "cell_type": "code",
      "execution_count": null,
      "metadata": {
        "id": "2ylULRVcd28Q"
      },
      "outputs": [],
      "source": [
        "aug = ImageDataGenerator(\n",
        "    rotation_range=25, width_shift_range=0.1,\n",
        "    height_shift_range=0.1, shear_range=0.2, \n",
        "    zoom_range=0.2,horizontal_flip=True, \n",
        "    fill_mode=\"nearest\")"
      ]
    },
    {
      "cell_type": "code",
      "execution_count": null,
      "metadata": {
        "id": "A2LBue1Ld25h"
      },
      "outputs": [],
      "source": [
        "model = Sequential()\n",
        "inputShape = (height, width, depth)\n",
        "chanDim = -1\n",
        "if K.image_data_format() == \"channels_first\":\n",
        "    inputShape = (depth, height, width)\n",
        "    chanDim = 1\n",
        "model.add(Conv2D(32, (3, 3), padding=\"same\",input_shape=inputShape))\n",
        "model.add(Activation(\"relu\"))\n",
        "model.add(BatchNormalization(axis=chanDim))\n",
        "model.add(MaxPooling2D(pool_size=(3, 3)))\n",
        "model.add(Dropout(0.25))\n",
        "model.add(Conv2D(64, (3, 3), padding=\"same\"))\n",
        "model.add(Activation(\"relu\"))\n",
        "model.add(BatchNormalization(axis=chanDim))\n",
        "model.add(Conv2D(64, (3, 3), padding=\"same\"))\n",
        "model.add(Activation(\"relu\"))\n",
        "model.add(BatchNormalization(axis=chanDim))\n",
        "model.add(MaxPooling2D(pool_size=(2, 2)))\n",
        "model.add(Dropout(0.25))\n",
        "model.add(Conv2D(128, (3, 3), padding=\"same\"))\n",
        "model.add(Activation(\"relu\"))\n",
        "model.add(BatchNormalization(axis=chanDim))\n",
        "model.add(Conv2D(128, (3, 3), padding=\"same\"))\n",
        "model.add(Activation(\"relu\"))\n",
        "model.add(BatchNormalization(axis=chanDim))\n",
        "model.add(MaxPooling2D(pool_size=(2, 2)))\n",
        "model.add(Dropout(0.25))\n",
        "model.add(Flatten())\n",
        "model.add(Dense(1024))\n",
        "model.add(Activation(\"relu\"))\n",
        "model.add(BatchNormalization())\n",
        "model.add(Dropout(0.5))\n",
        "model.add(Dense(n_classes))\n",
        "model.add(Activation(\"softmax\"))"
      ]
    },
    {
      "cell_type": "code",
      "execution_count": null,
      "metadata": {
        "colab": {
          "base_uri": "https://localhost:8080/"
        },
        "id": "Ov8wfCIqd202",
        "outputId": "692aae7c-54ec-4c5a-ceda-413484a39934"
      },
      "outputs": [
        {
          "name": "stdout",
          "output_type": "stream",
          "text": [
            "Model: \"sequential_1\"\n",
            "_________________________________________________________________\n",
            " Layer (type)                Output Shape              Param #   \n",
            "=================================================================\n",
            " conv2d_5 (Conv2D)           (None, 64, 64, 32)        896       \n",
            "                                                                 \n",
            " activation_7 (Activation)   (None, 64, 64, 32)        0         \n",
            "                                                                 \n",
            " batch_normalization_6 (Batc  (None, 64, 64, 32)       128       \n",
            " hNormalization)                                                 \n",
            "                                                                 \n",
            " max_pooling2d_3 (MaxPooling  (None, 21, 21, 32)       0         \n",
            " 2D)                                                             \n",
            "                                                                 \n",
            " dropout_4 (Dropout)         (None, 21, 21, 32)        0         \n",
            "                                                                 \n",
            " conv2d_6 (Conv2D)           (None, 21, 21, 64)        18496     \n",
            "                                                                 \n",
            " activation_8 (Activation)   (None, 21, 21, 64)        0         \n",
            "                                                                 \n",
            " batch_normalization_7 (Batc  (None, 21, 21, 64)       256       \n",
            " hNormalization)                                                 \n",
            "                                                                 \n",
            " conv2d_7 (Conv2D)           (None, 21, 21, 64)        36928     \n",
            "                                                                 \n",
            " activation_9 (Activation)   (None, 21, 21, 64)        0         \n",
            "                                                                 \n",
            " batch_normalization_8 (Batc  (None, 21, 21, 64)       256       \n",
            " hNormalization)                                                 \n",
            "                                                                 \n",
            " max_pooling2d_4 (MaxPooling  (None, 10, 10, 64)       0         \n",
            " 2D)                                                             \n",
            "                                                                 \n",
            " dropout_5 (Dropout)         (None, 10, 10, 64)        0         \n",
            "                                                                 \n",
            " conv2d_8 (Conv2D)           (None, 10, 10, 128)       73856     \n",
            "                                                                 \n",
            " activation_10 (Activation)  (None, 10, 10, 128)       0         \n",
            "                                                                 \n",
            " batch_normalization_9 (Batc  (None, 10, 10, 128)      512       \n",
            " hNormalization)                                                 \n",
            "                                                                 \n",
            " conv2d_9 (Conv2D)           (None, 10, 10, 128)       147584    \n",
            "                                                                 \n",
            " activation_11 (Activation)  (None, 10, 10, 128)       0         \n",
            "                                                                 \n",
            " batch_normalization_10 (Bat  (None, 10, 10, 128)      512       \n",
            " chNormalization)                                                \n",
            "                                                                 \n",
            " max_pooling2d_5 (MaxPooling  (None, 5, 5, 128)        0         \n",
            " 2D)                                                             \n",
            "                                                                 \n",
            " dropout_6 (Dropout)         (None, 5, 5, 128)         0         \n",
            "                                                                 \n",
            " flatten_1 (Flatten)         (None, 3200)              0         \n",
            "                                                                 \n",
            " dense_2 (Dense)             (None, 1024)              3277824   \n",
            "                                                                 \n",
            " activation_12 (Activation)  (None, 1024)              0         \n",
            "                                                                 \n",
            " batch_normalization_11 (Bat  (None, 1024)             4096      \n",
            " chNormalization)                                                \n",
            "                                                                 \n",
            " dropout_7 (Dropout)         (None, 1024)              0         \n",
            "                                                                 \n",
            " dense_3 (Dense)             (None, 38)                38950     \n",
            "                                                                 \n",
            " activation_13 (Activation)  (None, 38)                0         \n",
            "                                                                 \n",
            "=================================================================\n",
            "Total params: 3,600,294\n",
            "Trainable params: 3,597,414\n",
            "Non-trainable params: 2,880\n",
            "_________________________________________________________________\n"
          ]
        }
      ],
      "source": [
        "model.summary()"
      ]
    },
    {
      "cell_type": "code",
      "execution_count": null,
      "metadata": {
        "id": "acZCvCzJ_MQ3"
      },
      "outputs": [],
      "source": [
        ""
      ]
    },
    {
      "cell_type": "code",
      "execution_count": null,
      "metadata": {
        "colab": {
          "base_uri": "https://localhost:8080/"
        },
        "id": "VBz8w4phd2x3",
        "outputId": "d198d686-0eea-416f-d0c4-f80dd7d57896"
      },
      "outputs": [
        {
          "name": "stdout",
          "output_type": "stream",
          "text": [
            "[INFO] training network...\n"
          ]
        }
      ],
      "source": [
        "opt = Adam(learning_rate=INIT_LR, decay=INIT_LR / EPOCHS)\n",
        "model.compile(loss=keras.losses.categorical_crossentropy, optimizer=opt,metrics=[\"accuracy\"])\n",
        "print(\"[INFO] training network...\")"
      ]
    },
    {
      "cell_type": "code",
      "execution_count": null,
      "metadata": {
        "colab": {
          "base_uri": "https://localhost:8080/"
        },
        "id": "I7-8Emy9fL-C",
        "outputId": "65e19586-a3a2-4cb5-c3c5-77ecbb7dfa35"
      },
      "outputs": [
        {
          "name": "stdout",
          "output_type": "stream",
          "text": [
            "Epoch 1/25\n",
            "1757/1757 [==============================] - 172s 90ms/step - loss: 1.4639 - accuracy: 0.5850 - val_loss: 1.3046 - val_accuracy: 0.6561\n",
            "Epoch 2/25\n",
            "1757/1757 [==============================] - 171s 97ms/step - loss: 0.6738 - accuracy: 0.7915 - val_loss: 1.3842 - val_accuracy: 0.6729\n",
            "Epoch 3/25\n",
            "1757/1757 [==============================] - 158s 90ms/step - loss: 0.5137 - accuracy: 0.8365 - val_loss: 2.7753 - val_accuracy: 0.5451\n",
            "Epoch 4/25\n",
            "1757/1757 [==============================] - 182s 103ms/step - loss: 0.4175 - accuracy: 0.8657 - val_loss: 2.7661 - val_accuracy: 0.5484\n",
            "Epoch 5/25\n",
            "1757/1757 [==============================] - 174s 99ms/step - loss: 0.3516 - accuracy: 0.8869 - val_loss: 3.6262 - val_accuracy: 0.4854\n",
            "Epoch 6/25\n",
            "1757/1757 [==============================] - 173s 98ms/step - loss: 0.3056 - accuracy: 0.9021 - val_loss: 1.1040 - val_accuracy: 0.7585\n",
            "Epoch 7/25\n",
            "1757/1757 [==============================] - 179s 102ms/step - loss: 0.2758 - accuracy: 0.9113 - val_loss: 0.3218 - val_accuracy: 0.9064\n",
            "Epoch 8/25\n",
            "1757/1757 [==============================] - 174s 99ms/step - loss: 0.2390 - accuracy: 0.9222 - val_loss: 0.8236 - val_accuracy: 0.8146\n",
            "Epoch 9/25\n",
            "1757/1757 [==============================] - 189s 107ms/step - loss: 0.2102 - accuracy: 0.9314 - val_loss: 0.6521 - val_accuracy: 0.8584\n",
            "Epoch 10/25\n",
            "1757/1757 [==============================] - 195s 111ms/step - loss: 0.1944 - accuracy: 0.9376 - val_loss: 0.3197 - val_accuracy: 0.9068\n",
            "Epoch 11/25\n",
            "1757/1757 [==============================] - 204s 116ms/step - loss: 0.1780 - accuracy: 0.9406 - val_loss: 1.0818 - val_accuracy: 0.7734\n",
            "Epoch 12/25\n",
            "1757/1757 [==============================] - 218s 124ms/step - loss: 0.1664 - accuracy: 0.9459 - val_loss: 0.6694 - val_accuracy: 0.8482\n",
            "Epoch 13/25\n",
            "1757/1757 [==============================] - 212s 121ms/step - loss: 0.1547 - accuracy: 0.9492 - val_loss: 0.7405 - val_accuracy: 0.8291\n",
            "Epoch 14/25\n",
            "1757/1757 [==============================] - 237s 135ms/step - loss: 0.1474 - accuracy: 0.9511 - val_loss: 1.4426 - val_accuracy: 0.7206\n",
            "Epoch 15/25\n",
            "1757/1757 [==============================] - 161s 92ms/step - loss: 0.1332 - accuracy: 0.9561 - val_loss: 0.4178 - val_accuracy: 0.8942\n",
            "Epoch 16/25\n",
            "1757/1757 [==============================] - 180s 103ms/step - loss: 0.1282 - accuracy: 0.9565 - val_loss: 0.7971 - val_accuracy: 0.8261\n",
            "Epoch 17/25\n",
            "1757/1757 [==============================] - 176s 100ms/step - loss: 0.1183 - accuracy: 0.9602 - val_loss: 0.2485 - val_accuracy: 0.9302\n",
            "Epoch 18/25\n",
            "1757/1757 [==============================] - 195s 111ms/step - loss: 0.1149 - accuracy: 0.9611 - val_loss: 0.6384 - val_accuracy: 0.8429\n",
            "Epoch 19/25\n",
            "1757/1757 [==============================] - 203s 115ms/step - loss: 0.1090 - accuracy: 0.9632 - val_loss: 0.1076 - val_accuracy: 0.9664\n",
            "Epoch 20/25\n",
            "1757/1757 [==============================] - 182s 104ms/step - loss: 0.1069 - accuracy: 0.9648 - val_loss: 0.5143 - val_accuracy: 0.8699\n",
            "Epoch 21/25\n",
            "1757/1757 [==============================] - 202s 115ms/step - loss: 0.1032 - accuracy: 0.9656 - val_loss: 0.3840 - val_accuracy: 0.9010\n",
            "Epoch 22/25\n",
            "1757/1757 [==============================] - 197s 112ms/step - loss: 0.0932 - accuracy: 0.9686 - val_loss: 1.0215 - val_accuracy: 0.8181\n",
            "Epoch 23/25\n",
            "1757/1757 [==============================] - 175s 100ms/step - loss: 0.0966 - accuracy: 0.9675 - val_loss: 0.2729 - val_accuracy: 0.9306\n",
            "Epoch 24/25\n",
            "1757/1757 [==============================] - 178s 101ms/step - loss: 0.0882 - accuracy: 0.9698 - val_loss: 0.2102 - val_accuracy: 0.9457\n",
            "Epoch 25/25\n",
            "1757/1757 [==============================] - 200s 114ms/step - loss: 0.0860 - accuracy: 0.9711 - val_loss: 0.5196 - val_accuracy: 0.8837\n"
          ]
        }
      ],
      "source": [
        "EPOCHS = 25\n",
        "history = model.fit(\n",
        "    aug.flow(x_train, y_train, batch_size=BS),\n",
        "    validation_data=(x_test, y_test),\n",
        "    steps_per_epoch=len(x_train) // BS,\n",
        "    epochs=EPOCHS, verbose=1\n",
        "    )"
      ]
    },
    {
      "cell_type": "code",
      "execution_count": null,
      "metadata": {
        "colab": {
          "base_uri": "https://localhost:8080/",
          "height": 545
        },
        "id": "YlvUtnDKe-66",
        "outputId": "3ccb7284-7b19-4342-ad75-513ef2da3ca9"
      },
      "outputs": [
        {
          "data": {
            "image/png": "[encoded data removed]",
            "text/plain": [
              "<Figure size 432x288 with 1 Axes>"
            ]
          },
          "metadata": {
            "needs_background": "light"
          },
          "output_type": "display_data"
        },
        {
          "data": {
            "image/png": "[encoded data removed]",
            "text/plain": [
              "<Figure size 432x288 with 1 Axes>"
            ]
          },
          "metadata": {
            "needs_background": "light"
          },
          "output_type": "display_data"
        }
      ],
      "source": [
        "acc = history.history['accuracy']\n",
        "val_acc = history.history['val_accuracy']\n",
        "loss = history.history['loss']\n",
        "val_loss = history.history['val_loss']\n",
        "epochs = range(1, len(acc) + 1)\n",
        "#Train and validation accuracy\n",
        "plt.plot(epochs, acc, 'b', label='Training accurarcy')\n",
        "plt.plot(epochs, val_acc, 'r', label='Validation accurarcy')\n",
        "plt.title('Training and Validation accurarcy')\n",
        "plt.legend()\n",
        "\n",
        "plt.figure()\n",
        "#Train and validation loss\n",
        "plt.plot(epochs, loss, 'b', label='Training loss')\n",
        "plt.plot(epochs, val_loss, 'r', label='Validation loss')\n",
        "plt.title('Training and Validation loss')\n",
        "plt.legend()\n",
        "plt.show()"
      ]
    },
    {
      "cell_type": "code",
      "execution_count": null,
      "metadata": {
        "colab": {
          "base_uri": "https://localhost:8080/"
        },
        "id": "zmKqJwape_G9",
        "outputId": "b1ef1851-dffb-4ae1-bddc-249af4d94e48"
      },
      "outputs": [
        {
          "name": "stdout",
          "output_type": "stream",
          "text": [
            "[INFO] Calculating model accuracy\n",
            "440/440 [==============================] - 7s 15ms/step - loss: 0.5196 - accuracy: 0.8837\n",
            "Test Accuracy: 88.37043642997742\n"
          ]
        }
      ],
      "source": [
        "print(\"[INFO] Calculating model accuracy\")\n",
        "scores = model.evaluate(x_test, y_test)\n",
        "print(f\"Test Accuracy: {scores[1]*100}\")"
      ]
    },
    {
      "cell_type": "markdown",
      "metadata": {
        "id": "0yO_gFT_zQzV"
      },
      "source": [
        "# Save"
      ]
    },
    {
      "cell_type": "code",
      "execution_count": null,
      "metadata": {
        "id": "E2M7x4-gzQzW"
      },
      "outputs": [],
      "source": [
        "model.save('E:\\Agro-Disease-Detector\\PlantVillage_train\\modelonSmallData38C.h5')"
      ]
    },
    {
      "cell_type": "code",
      "execution_count": null,
      "metadata": {
        "id": "bC1x-wQYfZxz",
        "scrolled": true
      },
      "outputs": [],
      "source": [
        "import \n",
        "pickle.dump(model,open('E:\\Agro-Disease-Detector\\PlantVillage_train\\modelonSmallData38C.pkl', 'wb'))"
      ]
    },
    {
      "cell_type": "markdown",
      "metadata": {
        "id": "Q39JVKuBPN0J"
      },
      "source": [
        "**Prediction**"
      ]
    },
    {
      "cell_type": "code",
      "execution_count": null,
      "metadata": {
        "id": "r-c6nnb9GRxh",
        "colab": {
          "base_uri": "https://localhost:8080/"
        },
        "outputId": "f7f8b72a-f5f7-4411-ce4f-8372a3379015"
      },
      "outputs": [
        {
          "output_type": "stream",
          "name": "stdout",
          "text": [
            "7\n",
            "This image most likely belongs to Corn Cercospora Gray leaf spot with a 94.16 percent confidence. Elapsed 1.21 seconds.\n"
          ]
        }
      ],
      "source": [
        "import os.path\n",
        "from sklearn import preprocessing\n",
        "import numpy as np\n",
        "import pickle\n",
        "import cv2\n",
        "import tensorflow as tf\n",
        "import tensorflow.keras\n",
        "from os import listdir\n",
        "from tensorflow.keras.preprocessing.image import img_to_array\n",
        "from tensorflow.keras.models import load_model\n",
        "\n",
        "labels=['Apple Black rot' ,'Apple Cedar rust', 'Apple healthy' ,'Apple scab',\n",
        " 'Blueberry healthy', 'Cherry Powdery mildew', 'Cherry healthy',\n",
        " 'Corn Cercospora Gray leaf spot', 'Corn Common rust',\n",
        " 'Corn Northern Leaf Blight', 'Corn healthy' ,'Grape Black rot',\n",
        " 'Grape Esca Black Measles' ,'Grape Leaf blight Isariopsis Leaf Spot',\n",
        " 'Grape healthy', 'Orange Haunglongbing Citrus greening',\n",
        " 'Peach Bacterial spot', 'Peach healthy', 'Pepper bell Bacterial spot',\n",
        " 'Pepper bell healthy', 'Potato Early blight', 'Potato Late blight',\n",
        " 'Potato healthy' ,'Raspberry healthy' ,'Soybean healthy',\n",
        " 'Squash Powdery mildew', 'Strawberry Leaf scorch', 'Strawberry healthy',\n",
        " 'Tomato Bacterial spot', 'Tomato Early blight', 'Tomato Late blight',\n",
        " 'Tomato Leaf Mold', 'Tomato Septoria leaf spot', 'Tomato Target Spot',\n",
        " 'Tomato Two spotted spider mite', 'Tomato Yellow Leaf Curl Virus',\n",
        " 'Tomato healthy', 'Tomato mosaic virus']\n",
        " \n",
        "model = load_model('/content/drive/MyDrive/Model/CNN_Modelfinal.h5') \n",
        "\n",
        "\n",
        "imgpath='/content/drive/MyDrive/Dataset/PlantVillage/testing/Corn Cercospora Gray leaf spot/00120a18-ff90-46e4-92fb-2b7a10345bd3___RS_GLSp 9357.JPG'\n",
        "lb = preprocessing.LabelBinarizer()\n",
        "\n",
        "EPOCHS = 25\n",
        "INIT_LR = 1e-3\n",
        "BS = 32\n",
        "default_image_size = tuple((64, 64))\n",
        "image_size = 0\n",
        "width=64\n",
        "height=64\n",
        "depth=3\n",
        "\n",
        "\n",
        "def convert_image_to_array(image_dir):\n",
        "    try:\n",
        "        image = cv2.imread(image_dir)\n",
        "        if image is not None :\n",
        "            image = cv2.resize(image, default_image_size)   \n",
        "            return img_to_array(image)\n",
        "        else :\n",
        "            return np.array([])\n",
        "    except Exception as e:\n",
        "        print(f\"Error : {e}\")\n",
        "        return None\n",
        "\n",
        "if os.path.isfile(imgpath):\n",
        "  import time\n",
        "  \n",
        "  start = time.perf_counter()\n",
        "  imar = convert_image_to_array(imgpath) \n",
        "  npimagelist = np.array([imar], dtype=np.float16)/225.0 \n",
        "  PREDICTEDCLASSES2 = model.predict(npimagelist) \n",
        "  print (np.argmax(PREDICTEDCLASSES2))\n",
        "  #num=np.ndarray.item(np.array([PREDICTEDCLASSES2]))\n",
        " # print(labels[num])\n",
        "  \n",
        "\n",
        "\n",
        "  end = time.perf_counter()\n",
        "\n",
        "  elapsed = end - start\n",
        "\n",
        "  #print('Elapsed %.3f seconds.' % elapsed)\n",
        "  print(\n",
        "    \"This image most likely belongs to {} with a {:.2f} percent confidence. Elapsed {:.2f} seconds.\"\n",
        "    .format(labels[np.argmax(PREDICTEDCLASSES2)], 100 * np.max(PREDICTEDCLASSES2), elapsed)\n",
        "  )\n",
        "else:\n",
        "  print('invalid image path')\n"
      ]
    },
    {
      "cell_type": "code",
      "execution_count": null,
      "metadata": {
        "id": "1eglTmTE_yu4"
      },
      "outputs": [],
      "source": [
        ""
      ]
    }
  ],
  "metadata": {
    "colab": {
      "name": "CNN_final.ipynb",
      "provenance": [],
      "collapsed_sections": []
    },
    "kernelspec": {
      "display_name": "Python 3 (ipykernel)",
      "language": "python",
      "name": "python3"
    },
    "language_info": {
      "codemirror_mode": {
        "name": "ipython",
        "version": 3
      },
      "file_extension": ".py",
      "mimetype": "text/x-python",
      "name": "python",
      "nbconvert_exporter": "python",
      "pygments_lexer": "ipython3",
      "version": "3.8.5"
    }
  },
  "nbformat": 4,
  "nbformat_minor": 0
}